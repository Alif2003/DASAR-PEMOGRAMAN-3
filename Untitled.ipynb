{
 "cells": [
  {
   "cell_type": "markdown",
   "id": "57c88992",
   "metadata": {},
   "source": [
    "\n",
    "  <h1>Tugas Dasar Pemrograman sesi 3</h1>\n",
    "  \n",
    "<h2>1. Jenis tipe data beserta contohnya pada bahasa pemrograman python</h2>\n",
    "\n",
    "\n",
    "   1. `Boolean`, menyatakan benar yaitu True(1) dan salah yaitu False(0)\n",
    "   2. `String`, menyatakan karakter atau kalimat yang berupa huruf, angka yang diapit oleh tanda \" atau '\n",
    "   3. `Integer`, Menyatakan bilangan bulat contohnya 25 atau 109\n",
    "   4. `Float`, Menyatakan bilangan yang mempunyai koma contohnya 3.14 atau 0.99\n",
    "   5. `Hexadecimal`, Menyatakan bilangan dalam format heksa (bilangan berbasis 16) contohnya 9a, fa, dan 1d3\n",
    "   6. `Complex`, Menyatakan pasangan angka real dan imajiner contohnya 1 + 5j\n",
    "   7. `List`, Data untaian yang menyimpan berbagai tipe data dan isinya bisa diubah-ubah contohnya ['xyz', 786, 2.23]\n",
    "   8. `Tuple`, Data untaian yang menyimpan berbagai tipe data tapi isinya tidak bisa diubah contohnya ('xyz', 768, 2.23)\n",
    "   9. `Dictionary`, Data untaian yang menyimpan berbagai tipe data berupa pasangan penunjuk dan nilai {'nama':'alif','id:2}\n",
    "\n"
   ]
  },
  {
   "cell_type": "code",
   "execution_count": 4,
   "id": "98657313",
   "metadata": {},
   "outputs": [
    {
     "name": "stdout",
     "output_type": "stream",
     "text": [
      "True <class 'bool'>\n",
      "Halo Jama`ah <class 'str'>\n",
      "1234567890 <class 'int'>\n",
      "3.14 <class 'float'>\n",
      "4095 <class 'int'>\n",
      "5j <class 'complex'>\n",
      "[1, '2', 123] <class 'list'>\n",
      "(0, 1, 2, 3, 4, 5) <class 'tuple'>\n",
      "{'nama': 'Alif Apriza', 'Kelas': 'TI22H'} <class 'dict'>\n"
     ]
    }
   ],
   "source": [
    "#Tipe data boolean\n",
    "tipeDataBoolean = True\n",
    "print(tipeDataBoolean, type(tipeDataBoolean))\n",
    "\n",
    "#Tipe data String\n",
    "tipeDataString = \"Halo Jama`ah\"\n",
    "print(tipeDataString, type(tipeDataString))\n",
    "\n",
    "#Tipe data Integer\n",
    "tipeDataInteger = 1234567890\n",
    "print(tipeDataInteger, type(tipeDataInteger))\n",
    "\n",
    "#Tipe data Float\n",
    "tipeDataFloat = 3.14\n",
    "print(tipeDataFloat, type(tipeDataFloat))\n",
    "\n",
    "#Tipe data Hexadecimal\n",
    "tipeDataHexadecimal = 0xfff\n",
    "print(tipeDataHexadecimal, type(tipeDataHexadecimal))\n",
    "\n",
    "#Tipe data Complex\n",
    "tipeDataComplex = 5j\n",
    "print(tipeDataComplex, type(tipeDataComplex))\n",
    "\n",
    "#Tipe data list\n",
    "tipeDataList = [1, \"2\", 123]\n",
    "print(tipeDataList, type(tipeDataList))\n",
    "\n",
    "#Tipe data Tuple\n",
    "tipeDataTuple = (0, 1, 2, 3, 4, 5)\n",
    "print(tipeDataTuple, type(tipeDataTuple))\n",
    "\n",
    "#Tipe data Dictionary\n",
    "tipeDataDictionary = {\"nama\": \"Alif Apriza\", \"Kelas\": \"TI22H\"}\n",
    "print(tipeDataDictionary, type(tipeDataDictionary))"
   ]
  },
  {
   "cell_type": "markdown",
   "id": "ce10faa6",
   "metadata": {},
   "source": [
    "<h2>2. Program menampilkan nama, nomor telepon dan NIM</h2>\n"
   ]
  },
  {
   "cell_type": "code",
   "execution_count": 5,
   "id": "ad38733c",
   "metadata": {},
   "outputs": [
    {
     "name": "stdout",
     "output_type": "stream",
     "text": [
      "Muhammad Alif Apriza\n",
      "085603318324\n",
      "20220040074\n"
     ]
    }
   ],
   "source": [
    "\n",
    "#Nama\n",
    "print(\"Muhammad Alif Apriza\")\n",
    "\n",
    "#Nomor Telepon\n",
    "print(\"085603318324\")\n",
    "\n",
    "#NIM\n",
    "print(\"20220040074\")\n",
    "\n"
   ]
  },
  {
   "cell_type": "markdown",
   "id": "ab4ce45b",
   "metadata": {},
   "source": [
    "<h2>3. Program latihan penjumlahan dan pengurangan</h2>\n"
   ]
  },
  {
   "cell_type": "code",
   "execution_count": 4,
   "id": "4ac03aef",
   "metadata": {},
   "outputs": [
    {
     "name": "stdout",
     "output_type": "stream",
     "text": [
      "7800\n"
     ]
    }
   ],
   "source": [
    "angka1 = 5000\n",
    "angka2 = 2000\n",
    "angka3 = 200\n",
    "\n",
    "angka1 += 500\n",
    "angka2 += 500\n",
    "\n",
    "hasil = angka1 + angka2 - angka3\n",
    "print(hasil)"
   ]
  },
  {
   "cell_type": "markdown",
   "id": "a86ac341",
   "metadata": {},
   "source": [
    "<h2>4. Program mencari keliling lingkaran dan volume kubus</h2"
   ]
  },
  {
   "cell_type": "code",
   "execution_count": 1,
   "id": "e0a64b44",
   "metadata": {},
   "outputs": [
    {
     "name": "stdout",
     "output_type": "stream",
     "text": [
      "Masukan jari-jari: 7\n",
      "Jari-jari: 7.0\n",
      "hasilnya adalah: 43.96\n"
     ]
    }
   ],
   "source": [
    "#program mencari keliling lingkaran\n",
    "phi = 3.14\n",
    "r = float(input(\"Masukan jari-jari: \"))\n",
    "print(f\"Jari-jari: {r}\")\n",
    "\n",
    "hasil = 2 * phi * r\n",
    "print(f\"hasilnya adalah: {hasil}\")"
   ]
  },
  {
   "cell_type": "code",
   "execution_count": 2,
   "id": "d8b92ecd",
   "metadata": {},
   "outputs": [
    {
     "name": "stdout",
     "output_type": "stream",
     "text": [
      "Masukan panjang sisi: 8\n",
      "Sisi-sisi: 8.0\n",
      "Hasilnya adalah: 512.0\n"
     ]
    }
   ],
   "source": [
    "#program mencari volume kubus\n",
    "s = float(input(\"Masukan panjang sisi: \"))\n",
    "print(f\"Sisi-sisi: {s}\")\n",
    "\n",
    "hasil = s * s * s\n",
    "print(f\"Hasilnya adalah: {hasil}\")"
   ]
  }
 ],
 "metadata": {
  "kernelspec": {
   "display_name": "Python 3 (ipykernel)",
   "language": "python",
   "name": "python3"
  },
  "language_info": {
   "codemirror_mode": {
    "name": "ipython",
    "version": 3
   },
   "file_extension": ".py",
   "mimetype": "text/x-python",
   "name": "python",
   "nbconvert_exporter": "python",
   "pygments_lexer": "ipython3",
   "version": "3.9.12"
  }
 },
 "nbformat": 4,
 "nbformat_minor": 5
}
